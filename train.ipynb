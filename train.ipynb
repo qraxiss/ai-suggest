{
 "cells": [
  {
   "cell_type": "code",
   "execution_count": null,
   "metadata": {},
   "outputs": [],
   "source": [
    "%pip install pandas, sklearn"
   ]
  },
  {
   "cell_type": "code",
   "execution_count": 75,
   "metadata": {},
   "outputs": [],
   "source": [
    "import pandas as pd\n",
    "\n",
    "from sklearn.cluster import KMeans\n",
    "\n",
    "\n",
    "df = pd.read_csv(\"store_data.csv\", header=None)\n",
    "items = [\n",
    "'eggs',             \n",
    "'ground beef',\n",
    "'milk',              \n",
    "'chocolate',\n",
    "'frozen vegetables', \n",
    "'soup',\n",
    "'pancakes',          \n",
    "'spaghetti',\n",
    "'olive oil',         \n",
    "'mineral water',\n",
    "'salmon',            \n",
    "'cereals',\n",
    "'cooking oil',       \n",
    "'red wine',\n",
    "'chicken',           \n",
    "'french fries',\n",
    "'tomatoes',          \n",
    "'avocado',\n",
    "'herb & pepper',     \n",
    "'whole wheat rice',\n",
    "'cake',              \n",
    "'grated cheese',\n",
    "'burgers',           \n",
    "'shrimp',\n",
    "'frozen smoothie',   \n",
    "'honey',\n",
    "'low fat yogurt',    \n",
    "'turkey',\n",
    "'fresh bread',       \n",
    "'champagne',\n",
    "'green tea',         \n",
    "'escalope',\n",
    "'cookies'\n",
    "]\n",
    "\n",
    "\n",
    "transactions = df.iloc[:, 1:].values.tolist()\n",
    "X = []\n",
    "\n",
    "for transaction in transactions:\n",
    "    transaction = [item for item in transaction if not pd.isna(item)] \n",
    "    if len(transaction) > 2:\n",
    "        for item in transaction:\n",
    "            X.append([item for item in transaction if item in items])\n",
    "data = X\n",
    "\n",
    "def create_vector(basket, items):\n",
    "    vector = []\n",
    "    for item in items:\n",
    "        if item in basket:\n",
    "            vector.append(1)\n",
    "        else:\n",
    "            vector.append(0)\n",
    "    return vector\n",
    "\n",
    "vectors = [create_vector(basket, items) for basket in data]\n",
    "\n",
    "kmeans = KMeans(n_clusters=2000, random_state=0).fit(vectors)"
   ]
  },
  {
   "cell_type": "code",
   "execution_count": 76,
   "metadata": {},
   "outputs": [],
   "source": [
    "# Get cluster labels\n",
    "cluster_labels = kmeans.labels_\n",
    "\n",
    "# Group transactions by cluster\n",
    "clustered_transactions = {}\n",
    "for i, label in enumerate(cluster_labels):\n",
    "    if label not in clustered_transactions:\n",
    "        clustered_transactions[label] = []\n",
    "    clustered_transactions[label].append(data[i])\n",
    "\n",
    "# Print the clustered transactions\n",
    "cluster_variables = {}\n",
    "\n",
    "for cluster, transactions in clustered_transactions.items():\n",
    "    data = []\n",
    "    for transaction in transactions:\n",
    "        data.extend(transaction)\n",
    "\n",
    "    cluster_variables[str(cluster)] = list(set(data))"
   ]
  },
  {
   "cell_type": "code",
   "execution_count": 71,
   "metadata": {},
   "outputs": [
    {
     "data": {
      "text/plain": [
       "'shrimp'"
      ]
     },
     "execution_count": 71,
     "metadata": {},
     "output_type": "execute_result"
    }
   ],
   "source": [
    "basket = []\n",
    "\n",
    "vector = create_vector(basket, items)\n",
    "predicted_cluster = kmeans.predict([vector])\n",
    "\n",
    "from random import choice\n",
    "\n",
    "similar_cluster = cluster_variables[str(predicted_cluster[0])]\n",
    "similar_result = choice(list(set(similar_cluster)- set(basket)))\n",
    "\n",
    "similar_result\n"
   ]
  },
  {
   "cell_type": "code",
   "execution_count": 80,
   "metadata": {},
   "outputs": [],
   "source": [
    "import pickle, json\n",
    "\n",
    "\n",
    "with open(\"kmeans.pkl\", \"wb\") as f:\n",
    "    pickle.dump(kmeans, f)\n",
    "\n",
    "with open(\"cluster.json\", \"w\") as f:\n",
    "    json.dump(cluster_variables, f, indent=4, ensure_ascii=True)"
   ]
  },
  {
   "cell_type": "code",
   "execution_count": null,
   "metadata": {},
   "outputs": [],
   "source": [
    "def create_vector(basket, items):\n",
    "    vector = []\n",
    "    for item in items:\n",
    "        if item in basket:\n",
    "            vector.append(1)\n",
    "        else:\n",
    "            vector.append(0)\n",
    "    return vector\n",
    "\n",
    "with open(\"model.pkl\", \"rb\") as f:\n",
    "    kmeans = pickle.load(f)\n",
    "\n",
    "basket = []\n",
    "\n"
   ]
  },
  {
   "cell_type": "code",
   "execution_count": 96,
   "metadata": {},
   "outputs": [],
   "source": []
  },
  {
   "cell_type": "code",
   "execution_count": 97,
   "metadata": {},
   "outputs": [
    {
     "data": {
      "text/plain": [
       "'mineral water'"
      ]
     },
     "execution_count": 97,
     "metadata": {},
     "output_type": "execute_result"
    }
   ],
   "source": []
  },
  {
   "cell_type": "code",
   "execution_count": 94,
   "metadata": {},
   "outputs": [
    {
     "data": {
      "text/plain": [
       "{'pancakes'}"
      ]
     },
     "execution_count": 94,
     "metadata": {},
     "output_type": "execute_result"
    }
   ],
   "source": [
    "set(basket) - set(['soup', 'spaghetti', 'olive oil']) "
   ]
  },
  {
   "cell_type": "code",
   "execution_count": 95,
   "metadata": {},
   "outputs": [
    {
     "data": {
      "text/plain": [
       "['eggs',\n",
       " 'ground beef',\n",
       " 'milk',\n",
       " 'chocolate',\n",
       " 'frozen vegetables',\n",
       " 'soup',\n",
       " 'pancakes',\n",
       " 'spaghetti',\n",
       " 'olive oil',\n",
       " 'mineral water',\n",
       " 'salmon',\n",
       " 'cereals',\n",
       " 'cooking oil',\n",
       " 'red wine',\n",
       " 'chicken',\n",
       " 'french fries',\n",
       " 'tomatoes',\n",
       " 'avocado',\n",
       " 'herb & pepper',\n",
       " 'whole wheat rice',\n",
       " 'cake',\n",
       " 'grated cheese',\n",
       " 'burgers',\n",
       " 'shrimp',\n",
       " 'frozen smoothie',\n",
       " 'honey',\n",
       " 'low fat yogurt',\n",
       " 'turkey',\n",
       " 'fresh bread',\n",
       " 'champagne',\n",
       " 'green tea',\n",
       " 'escalope',\n",
       " 'cookies']"
      ]
     },
     "execution_count": 95,
     "metadata": {},
     "output_type": "execute_result"
    }
   ],
   "source": [
    "items"
   ]
  },
  {
   "cell_type": "code",
   "execution_count": null,
   "metadata": {},
   "outputs": [],
   "source": []
  }
 ],
 "metadata": {
  "kernelspec": {
   "display_name": "Python 3",
   "language": "python",
   "name": "python3"
  },
  "language_info": {
   "codemirror_mode": {
    "name": "ipython",
    "version": 3
   },
   "file_extension": ".py",
   "mimetype": "text/x-python",
   "name": "python",
   "nbconvert_exporter": "python",
   "pygments_lexer": "ipython3",
   "version": "3.10.10"
  }
 },
 "nbformat": 4,
 "nbformat_minor": 2
}
